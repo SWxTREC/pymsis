{
  "cells": [
    {
      "cell_type": "markdown",
      "metadata": {},
      "source": [
        "\n# Surface animation\n\nThis example demonstrates how to animate the surface plot. Showing\nthe variations over the course of a year.\n"
      ]
    },
    {
      "cell_type": "code",
      "execution_count": null,
      "metadata": {
        "collapsed": false
      },
      "outputs": [],
      "source": [
        "import matplotlib\nimport matplotlib.dates as mdates\nimport matplotlib.pyplot as plt\nimport numpy as np\nfrom matplotlib.animation import FuncAnimation\n\nfrom pymsis import msis\n\n\nlons = range(-180, 185, 5)\nlats = range(-90, 95, 5)\nalt = 200\nf107 = 150\nf107a = 150\nap = 4\n# Diurnal data\ndates = np.arange(\"2003-01-01\", \"2003-01-02\", dtype=\"datetime64[30m]\")\nndates = len(dates)\n# (F107, F107a, ap) all need to be specified at the same length as dates\nf107s = [f107] * ndates\nf107as = [f107a] * ndates\naps = [[ap] * 7] * ndates\n\noutput = msis.run(dates, lons, lats, alt, f107s, f107as, aps)\n#  output is now of the shape (ndates, nlons, nlats, 1, 11)\n# Get rid of the single dimensions\noutput = np.squeeze(output)\n\ni = 7  # N\n\nfig, (ax_time, ax_mesh) = plt.subplots(\n    nrows=2, gridspec_kw={\"height_ratios\": [1, 4]}, constrained_layout=True\n)\nxx, yy = np.meshgrid(lons, lats)\nvmin, vmax = 1e13, 8e13\nnorm = matplotlib.colors.Normalize(vmin, vmax)\nmesh = ax_mesh.pcolormesh(xx, yy, output[0, :, :, i].T, shading=\"auto\", norm=norm)\nplt.colorbar(\n    mesh, label=f\"N number density at {alt} km (/m$^3$)\", orientation=\"horizontal\"\n)\n\ntime_data = output[:, len(lons) // 2, len(lats) // 2, :]\nax_time.plot(dates, time_data[:, i], c=\"k\")\nax_time.set_xlim(dates[0], dates[-1])\nax_time.set_ylim(vmin, vmax)\nax_time.xaxis.set_major_locator(mdates.HourLocator(interval=3))\nax_time.xaxis.set_major_formatter(mdates.DateFormatter(\"%H:%M\"))\ntime_line = ax_time.axvline(dates[0], c=\"r\")\n\nsun_loc = (\n    180\n    - (dates.astype(\"datetime64[s]\") - dates.astype(\"datetime64[D]\")).astype(float)\n    / 86400\n    * 360\n)\n(sun,) = ax_mesh.plot(sun_loc[0], 0, \".\", c=\"gold\", markersize=15)\n\ndate_string = dates[0].astype(\"O\").strftime(\"%H:%M\")\ntitle = ax_time.set_title(f\"{date_string}\")\nax_mesh.set_xlabel(\"Longitude\")\nax_mesh.set_ylabel(\"Latitude\")\n\n\ndef update_surface(t):\n    date_string = dates[t].astype(\"O\").strftime(\"%H:%M\")\n    title.set_text(f\"{date_string}\")\n    time_line.set_xdata(dates[t])\n    mesh.set_array(output[t, :, :, i].T)\n    sun.set_data(sun_loc[t], 0)\n\n\nani = FuncAnimation(fig, update_surface, frames=range(ndates), interval=25)\n\nplt.show()"
      ]
    }
  ],
  "metadata": {
    "kernelspec": {
      "display_name": "Python 3",
      "language": "python",
      "name": "python3"
    },
    "language_info": {
      "codemirror_mode": {
        "name": "ipython",
        "version": 3
      },
      "file_extension": ".py",
      "mimetype": "text/x-python",
      "name": "python",
      "nbconvert_exporter": "python",
      "pygments_lexer": "ipython3",
      "version": "3.10.14"
    }
  },
  "nbformat": 4,
  "nbformat_minor": 0
}