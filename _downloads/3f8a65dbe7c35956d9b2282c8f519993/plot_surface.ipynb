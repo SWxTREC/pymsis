{
  "cells": [
    {
      "cell_type": "code",
      "execution_count": null,
      "metadata": {
        "collapsed": false
      },
      "outputs": [],
      "source": [
        "%matplotlib inline"
      ]
    },
    {
      "cell_type": "markdown",
      "metadata": {},
      "source": [
        "\n# Surface plot\n\nThis example demonstrates how to calculate the\nquantities on a constant altitude plane.\n"
      ]
    },
    {
      "cell_type": "code",
      "execution_count": null,
      "metadata": {
        "collapsed": false
      },
      "outputs": [],
      "source": [
        "import matplotlib.pyplot as plt\nimport numpy as np\n\nfrom pymsis import msis\n\n\nlons = range(-180, 185, 5)\nlats = range(-90, 95, 5)\nalt = 200\nf107 = 150\nf107a = 150\nap = 7\n# One years worth of data at the 12th hour every day\ndate = np.datetime64('2003-01-01T12:00')\naps = [[ap]*7]\n\noutput = msis.run(date, lons, lats, alt, f107, f107a, aps)\n#  output is now of the shape (1, nlons, nlats, 1, 11)\n# Get rid of the single dimensions\noutput = np.squeeze(output)\n\ni = 2  # O2\n\n_, ax = plt.subplots()\nxx, yy = np.meshgrid(lons, lats)\nmesh = ax.pcolormesh(xx, yy, output[:, :, i].T, shading='auto')\nplt.colorbar(mesh, label='Number density (/m$^3$)')\n\nax.set_title(f\"O$_2$ number density at {alt} km\")\nax.set_xlabel(\"Longitude\")\nax.set_ylabel(\"Latitude\")\n\nplt.show()"
      ]
    }
  ],
  "metadata": {
    "kernelspec": {
      "display_name": "Python 3",
      "language": "python",
      "name": "python3"
    },
    "language_info": {
      "codemirror_mode": {
        "name": "ipython",
        "version": 3
      },
      "file_extension": ".py",
      "mimetype": "text/x-python",
      "name": "python",
      "nbconvert_exporter": "python",
      "pygments_lexer": "ipython3",
      "version": "3.8.12"
    }
  },
  "nbformat": 4,
  "nbformat_minor": 0
}