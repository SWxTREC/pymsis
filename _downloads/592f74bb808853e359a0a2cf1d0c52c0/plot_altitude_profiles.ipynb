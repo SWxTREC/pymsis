{
  "cells": [
    {
      "cell_type": "markdown",
      "metadata": {},
      "source": [
        "\n# Altitude profiles\n\nThis example demonstrates how to calculate the\naltitude variations at a single location. Additionally,\nwe show the difference between densities at noon (solid)\nand midnight (dashed).\n"
      ]
    },
    {
      "cell_type": "code",
      "execution_count": null,
      "metadata": {
        "collapsed": false
      },
      "outputs": [],
      "source": [
        "import matplotlib.pyplot as plt\nimport numpy as np\n\nimport pymsis\n\n\nlon = 0\nlat = 70\nalts = np.linspace(0, 1000, 1000)\nf107 = 150\nf107a = 150\nap = 7\naps = [[ap] * 7]\n\ndate = np.datetime64(\"2003-01-01T00:00\")\noutput_midnight = pymsis.calculate(date, lon, lat, alts, f107, f107a, aps)\ndate = np.datetime64(\"2003-01-01T12:00\")\noutput_noon = pymsis.calculate(date, lon, lat, alts, f107, f107a, aps)\n\n#  output is now of the shape (1, 1, 1, 1000, 11)\n# Get rid of the single dimensions\noutput_midnight = np.squeeze(output_midnight)\noutput_noon = np.squeeze(output_noon)\n\n_, ax = plt.subplots()\nfor variable in pymsis.Variable:\n    if variable.name in (\"Total mass density\", \"Temperature\"):\n        # Ignore non-number densities\n        continue\n    (line,) = ax.plot(output_midnight[:, variable], alts, linestyle=\"--\")\n    ax.plot(output_noon[:, variable], alts, c=line.get_color(), label=variable.name)\n\nax.legend(\n    loc=\"upper center\", bbox_to_anchor=(0.5, 1.15), fancybox=True, shadow=True, ncol=4\n)\nax.set_title(f\"Longitude: {lon}, Latitude: {lat}\")\nax.set_xscale(\"log\")\nax.set_xlim(1e8, 1e18)\nax.set_ylim(0, 1000)\nax.set_xlabel(\"Number density (/m$^3$)\")\nax.set_ylabel(\"Altitude (km)\")\n\nplt.show()"
      ]
    }
  ],
  "metadata": {
    "kernelspec": {
      "display_name": "Python 3",
      "language": "python",
      "name": "python3"
    },
    "language_info": {
      "codemirror_mode": {
        "name": "ipython",
        "version": 3
      },
      "file_extension": ".py",
      "mimetype": "text/x-python",
      "name": "python",
      "nbconvert_exporter": "python",
      "pygments_lexer": "ipython3",
      "version": "3.13.0"
    }
  },
  "nbformat": 4,
  "nbformat_minor": 0
}