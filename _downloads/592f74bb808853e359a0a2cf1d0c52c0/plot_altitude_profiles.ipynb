{
  "cells": [
    {
      "cell_type": "code",
      "execution_count": null,
      "metadata": {
        "collapsed": false
      },
      "outputs": [],
      "source": [
        "%matplotlib inline"
      ]
    },
    {
      "cell_type": "markdown",
      "metadata": {},
      "source": [
        "\n# Altitude profiles\n\nThis example demonstrates how to calculate the\naltitude variations at a single location. Additionally,\nwe show the difference between densities at noon (solid)\nand midnight (dashed).\n"
      ]
    },
    {
      "cell_type": "code",
      "execution_count": null,
      "metadata": {
        "collapsed": false
      },
      "outputs": [],
      "source": [
        "import matplotlib.pyplot as plt\nimport numpy as np\n\nfrom pymsis import msis\n\n\nlon = 0\nlat = 70\nalts = np.linspace(0, 1000, 1000)\nf107 = 150\nf107a = 150\nap = 7\naps = [[ap]*7]\n\ndate = np.datetime64('2003-01-01T00:00')\noutput_midnight = msis.run(date, lon, lat, alts, f107, f107a, aps)\ndate = np.datetime64('2003-01-01T12:00')\noutput_noon = msis.run(date, lon, lat, alts, f107, f107a, aps)\n\n#  output is now of the shape (1, 1, 1, 1000, 11)\n# Get rid of the single dimensions\noutput_midnight = np.squeeze(output_midnight)\noutput_noon = np.squeeze(output_noon)\n\nvariables = ['Total mass density', 'N2', 'O2', 'O', 'He',\n             'H', 'Ar', 'N', 'Anomalous O', 'NO', 'Temperature']\n\n_, ax = plt.subplots()\nfor i, label in enumerate(variables):\n    if label in ('NO', 'Total mass density', 'Temperature'):\n        # There is currently no NO data, also ignore non-number densities\n        continue\n    line, = ax.plot(output_midnight[:, i], alts, linestyle='--')\n    ax.plot(output_noon[:, i], alts, c=line.get_color(), label=label)\n\nax.legend(loc='upper center', bbox_to_anchor=(0.5, 1.15),\n          fancybox=True, shadow=True, ncol=4)\nax.set_title(f\"Longitude: {lon}, Latitude: {lat}\")\nax.set_xscale('log')\nax.set_xlim(1e8, 1e18)\nax.set_ylim(0, 1000)\nax.set_xlabel('Number density (/m$^3$)')\nax.set_ylabel('Altitude (km)')\n\nplt.show()"
      ]
    }
  ],
  "metadata": {
    "kernelspec": {
      "display_name": "Python 3",
      "language": "python",
      "name": "python3"
    },
    "language_info": {
      "codemirror_mode": {
        "name": "ipython",
        "version": 3
      },
      "file_extension": ".py",
      "mimetype": "text/x-python",
      "name": "python",
      "nbconvert_exporter": "python",
      "pygments_lexer": "ipython3",
      "version": "3.8.5"
    }
  },
  "nbformat": 4,
  "nbformat_minor": 0
}