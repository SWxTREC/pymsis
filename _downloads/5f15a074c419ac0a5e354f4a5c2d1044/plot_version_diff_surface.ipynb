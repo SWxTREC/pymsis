{
  "cells": [
    {
      "cell_type": "code",
      "execution_count": null,
      "metadata": {
        "collapsed": false
      },
      "outputs": [],
      "source": [
        "%matplotlib inline"
      ]
    },
    {
      "cell_type": "markdown",
      "metadata": {},
      "source": [
        "\n# Version Differences (Surface)\n\nThis example demonstrates how to calculate the\npercent change of all variables on a surface between\nMSIS version 00 and 2.\n"
      ]
    },
    {
      "cell_type": "code",
      "execution_count": null,
      "metadata": {
        "collapsed": false
      },
      "outputs": [],
      "source": [
        "import matplotlib as mpl\nimport matplotlib.pyplot as plt\nimport numpy as np\n\nfrom pymsis import msis\n\n\nlons = range(-180, 185, 5)\nlats = range(-90, 95, 5)\nalt = 200\nf107 = 150\nf107a = 150\nap = 7\n# One years worth of data at the 12th hour every day\ndate = np.datetime64('2003-01-01T12:00')\naps = [[ap]*7]\n\noutput2 = msis.run(date, lons, lats, alt, f107, f107a, aps)\noutput0 = msis.run(date, lons, lats, alt, f107, f107a, aps, version=0)\ndiff = (output2 - output0)/output0 * 100\n#  diff is now of the shape (1, nlons, nlats, 1, 11)\n# Get rid of the single dimensions\ndiff = np.squeeze(diff)\n\nvariables = ['Total mass density', 'N2', 'O2', 'O', 'He',\n             'H', 'Ar', 'N', 'Anomalous O', 'NO', 'Temperature']\n\nfig, axarr = plt.subplots(nrows=3, ncols=3, constrained_layout=True,\n                          figsize=(8, 6))\nxx, yy = np.meshgrid(lons, lats)\nnorm = mpl.colors.Normalize(-50, 50)\ncmap = mpl.cm.get_cmap('RdBu_r')\nfor i, ax in enumerate(axarr.flatten()):\n    mesh = ax.pcolormesh(xx, yy, diff[:, :, i].T, shading='auto',\n                         norm=norm, cmap=cmap)\n    ax.set_title(f\"{variables[i]}\")\n\nplt.colorbar(mesh, ax=axarr, label='Change from MSIS-00 to MSIS2 (%)',\n             orientation='horizontal')\n\nplt.show()"
      ]
    }
  ],
  "metadata": {
    "kernelspec": {
      "display_name": "Python 3",
      "language": "python",
      "name": "python3"
    },
    "language_info": {
      "codemirror_mode": {
        "name": "ipython",
        "version": 3
      },
      "file_extension": ".py",
      "mimetype": "text/x-python",
      "name": "python",
      "nbconvert_exporter": "python",
      "pygments_lexer": "ipython3",
      "version": "3.8.5"
    }
  },
  "nbformat": 4,
  "nbformat_minor": 0
}