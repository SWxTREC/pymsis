{
  "cells": [
    {
      "cell_type": "code",
      "execution_count": null,
      "metadata": {
        "collapsed": false
      },
      "outputs": [],
      "source": [
        "%matplotlib inline"
      ]
    },
    {
      "cell_type": "markdown",
      "metadata": {},
      "source": [
        "\n# Annual variation\n\nThis example demonstrates how to calculate the\ndifference from the annual mean at a single location.\n"
      ]
    },
    {
      "cell_type": "code",
      "execution_count": null,
      "metadata": {
        "collapsed": false
      },
      "outputs": [],
      "source": [
        "import matplotlib.pyplot as plt\nimport numpy as np\n\nfrom pymsis import msis\n\n\nlon = 0\nlat = 0\nalt = 200\nf107 = 150\nf107a = 150\nap = 7\n# One years worth of data at the 12th hour every day\ndates = np.arange(\"2003-01\", \"2004-01\", dtype=\"datetime64[D]\") + np.timedelta64(12, \"h\")\nndates = len(dates)\n# (F107, F107a, ap) all need to be specified at the same length as dates\nf107s = [f107] * ndates\nf107as = [f107a] * ndates\naps = [[ap] * 7] * ndates\n\noutput = msis.run(dates, lon, lat, alt, f107s, f107as, aps)\n#  output is now of the shape (ndates, 1, 1, 1, 11)\n# Get rid of the single dimensions\noutput = np.squeeze(output)\n\n# Lets get the percent variation from the annual mean for each variable\nvariation = 100 * (output / output.mean(axis=0) - 1)\n\nvariables = [\n    \"Total mass density\",\n    \"N2\",\n    \"O2\",\n    \"O\",\n    \"He\",\n    \"H\",\n    \"Ar\",\n    \"N\",\n    \"Anomalous O\",\n    \"NO\",\n    \"Temperature\",\n]\n\n_, ax = plt.subplots()\nfor i, label in enumerate(variables):\n    if label == \"NO\":\n        # There is currently no NO data\n        continue\n    ax.plot(dates, variation[:, i], label=label)\n\nax.legend(\n    loc=\"upper center\", bbox_to_anchor=(0.5, 1.15), fancybox=True, shadow=True, ncol=5\n)\nax.set_xlabel(f\"Longitude: {lon}, Latitude: {lat}, Altitude: {alt} km\")\nax.set_ylabel(\"Difference from annual mean (%)\")\n\nplt.show()"
      ]
    }
  ],
  "metadata": {
    "kernelspec": {
      "display_name": "Python 3",
      "language": "python",
      "name": "python3"
    },
    "language_info": {
      "codemirror_mode": {
        "name": "ipython",
        "version": 3
      },
      "file_extension": ".py",
      "mimetype": "text/x-python",
      "name": "python",
      "nbconvert_exporter": "python",
      "pygments_lexer": "ipython3",
      "version": "3.10.9"
    }
  },
  "nbformat": 4,
  "nbformat_minor": 0
}