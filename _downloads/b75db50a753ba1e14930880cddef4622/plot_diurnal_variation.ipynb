{
  "cells": [
    {
      "cell_type": "markdown",
      "metadata": {},
      "source": [
        "\n# Diurnal variation\n\nThis example demonstrates how to calculate the\ndiurnal variation at a single location.\n"
      ]
    },
    {
      "cell_type": "code",
      "execution_count": null,
      "metadata": {
        "collapsed": false
      },
      "outputs": [],
      "source": [
        "import matplotlib.dates as mdates\nimport matplotlib.pyplot as plt\nimport numpy as np\n\nimport pymsis\n\n\nlon = 0\nlat = 70\nalt = 200\nf107 = 150\nf107a = 150\nap = 7\n# One years worth of data at the 12th hour every day\ndates = np.arange(\"2003-01-01\", \"2003-01-02\", dtype=\"datetime64[m]\")\nndates = len(dates)\n# (F107, F107a, ap) all need to be specified at the same length as dates\nf107s = [f107] * ndates\nf107as = [f107a] * ndates\naps = [[ap] * 7] * ndates\n\noutput = pymsis.calculate(dates, lon, lat, alt, f107s, f107as, aps)\n#  output is now of the shape (ndates, 1, 1, 1, 11)\n# Get rid of the single dimensions\noutput = np.squeeze(output)\n\n# Lets get the percent variation from the annual mean for each variable\nvariation = 100 * (output / output.mean(axis=0) - 1)\n\n_, ax = plt.subplots()\nfor variable in pymsis.Variable:\n    ax.plot(dates, variation[:, variable], label=variable.name)\n\nax.legend(\n    loc=\"upper center\", bbox_to_anchor=(0.5, 1.15), fancybox=True, shadow=True, ncol=5\n)\nax.set_xlabel(f\"Longitude: {lon}, Latitude: {lat}, Altitude: {alt} km\")\nax.set_ylabel(\"Difference from the daily mean (%)\")\nax.set_xlim(dates[0], dates[-1])\nax.xaxis.set_major_locator(mdates.HourLocator(interval=3))\nax.xaxis.set_major_formatter(mdates.DateFormatter(\"%H:%M\"))\n\nplt.show()"
      ]
    }
  ],
  "metadata": {
    "kernelspec": {
      "display_name": "Python 3",
      "language": "python",
      "name": "python3"
    },
    "language_info": {
      "codemirror_mode": {
        "name": "ipython",
        "version": 3
      },
      "file_extension": ".py",
      "mimetype": "text/x-python",
      "name": "python",
      "nbconvert_exporter": "python",
      "pygments_lexer": "ipython3",
      "version": "3.13.5"
    }
  },
  "nbformat": 4,
  "nbformat_minor": 0
}