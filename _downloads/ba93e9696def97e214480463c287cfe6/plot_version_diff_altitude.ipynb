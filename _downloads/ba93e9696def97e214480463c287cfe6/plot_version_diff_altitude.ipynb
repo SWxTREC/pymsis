{
  "cells": [
    {
      "cell_type": "code",
      "execution_count": null,
      "metadata": {
        "collapsed": false
      },
      "outputs": [],
      "source": [
        "%matplotlib inline"
      ]
    },
    {
      "cell_type": "markdown",
      "metadata": {},
      "source": [
        "\n# Version Differences (Altitude)\n\nThis example demonstrates how to calculate the\npercent change along an altitude profile between MSIS version 00 and 2.\nAdditionally, we show the difference between densities at noon (solid)\nand midnight (dashed).\n"
      ]
    },
    {
      "cell_type": "code",
      "execution_count": null,
      "metadata": {
        "collapsed": false
      },
      "outputs": [],
      "source": [
        "import matplotlib.pyplot as plt\nimport numpy as np\n\nfrom pymsis import msis\n\n\nlon = 0\nlat = 70\nalts = np.linspace(0, 1000, 1000)\nf107 = 150\nf107a = 150\nap = 7\naps = [[ap] * 7]\n\ndate = np.datetime64(\"2003-01-01T00:00\")\noutput_midnight2 = msis.run(date, lon, lat, alts, f107, f107a, aps)\noutput_midnight0 = msis.run(date, lon, lat, alts, f107, f107a, aps, version=0)\ndiff_midnight = (output_midnight2 - output_midnight0) / output_midnight0 * 100\n\ndate = np.datetime64(\"2003-01-01T12:00\")\noutput_noon2 = msis.run(date, lon, lat, alts, f107, f107a, aps)\noutput_noon0 = msis.run(date, lon, lat, alts, f107, f107a, aps, version=0)\ndiff_noon = (output_noon2 - output_noon0) / output_noon0 * 100\n\n\n#  output is now of the shape (1, 1, 1, 1000, 11)\n# Get rid of the single dimensions\ndiff_midnight = np.squeeze(diff_midnight)\ndiff_noon = np.squeeze(diff_noon)\n\nvariables = [\n    \"Total mass density\",\n    \"N2\",\n    \"O2\",\n    \"O\",\n    \"He\",\n    \"H\",\n    \"Ar\",\n    \"N\",\n    \"Anomalous O\",\n    \"NO\",\n    \"Temperature\",\n]\n\n_, ax = plt.subplots()\nfor i, label in enumerate(variables):\n    if label in (\"NO\", \"Total mass density\", \"Temperature\"):\n        # There is currently no NO data, also ignore non-number densities\n        continue\n    (line,) = ax.plot(diff_midnight[:, i], alts, linestyle=\"--\")\n    ax.plot(diff_noon[:, i], alts, c=line.get_color(), label=label)\n\nax.legend(\n    loc=\"upper center\", bbox_to_anchor=(0.5, 1.15), fancybox=True, shadow=True, ncol=4\n)\nax.set_title(f\"Longitude: {lon}, Latitude: {lat}\")\nax.set_xlim(-50, 50)\nax.set_ylim(0, 1000)\nax.set_xlabel(\"Change from MSIS-00 to MSIS2 (%)\")\nax.set_ylabel(\"Altitude (km)\")\n\nplt.show()"
      ]
    }
  ],
  "metadata": {
    "kernelspec": {
      "display_name": "Python 3",
      "language": "python",
      "name": "python3"
    },
    "language_info": {
      "codemirror_mode": {
        "name": "ipython",
        "version": 3
      },
      "file_extension": ".py",
      "mimetype": "text/x-python",
      "name": "python",
      "nbconvert_exporter": "python",
      "pygments_lexer": "ipython3",
      "version": "3.10.9"
    }
  },
  "nbformat": 4,
  "nbformat_minor": 0
}